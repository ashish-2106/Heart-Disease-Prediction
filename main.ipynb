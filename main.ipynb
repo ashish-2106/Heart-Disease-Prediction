{
  "metadata": {
    "kernelspec": {
      "display_name": "Python 3",
      "language": "python",
      "name": "python3"
    },
    "language_info": {
      "name": "python",
      "version": "3.10.14",
      "mimetype": "text/x-python",
      "codemirror_mode": {
        "name": "ipython",
        "version": 3
      },
      "pygments_lexer": "ipython3",
      "nbconvert_exporter": "python",
      "file_extension": ".py"
    },
    "kaggle": {
      "accelerator": "none",
      "dataSources": [
        {
          "sourceId": 9168167,
          "sourceType": "datasetVersion",
          "datasetId": 5539949
        }
      ],
      "dockerImageVersionId": 30786,
      "isInternetEnabled": false,
      "language": "python",
      "sourceType": "notebook",
      "isGpuEnabled": false
    },
    "colab": {
      "name": "notebook2b4b270c23",
      "provenance": [],
      "toc_visible": true,
      "include_colab_link": true
    }
  },
  "nbformat_minor": 0,
  "nbformat": 4,
  "cells": [
    {
      "cell_type": "markdown",
      "metadata": {
        "id": "view-in-github",
        "colab_type": "text"
      },
      "source": [
        "<a href=\"https://colab.research.google.com/github/ashish-2106/Heart-Disease-Prediction/blob/main/main.ipynb\" target=\"_parent\"><img src=\"https://colab.research.google.com/assets/colab-badge.svg\" alt=\"Open In Colab\"/></a>"
      ]
    },
    {
      "source": [
        "# IMPORTANT: SOME KAGGLE DATA SOURCES ARE PRIVATE\n",
        "# RUN THIS CELL IN ORDER TO IMPORT YOUR KAGGLE DATA SOURCES.\n",
        "import kagglehub\n",
        "kagglehub.login()\n"
      ],
      "metadata": {
        "id": "Rq6PrEMZT06p"
      },
      "cell_type": "code",
      "outputs": [],
      "execution_count": null
    },
    {
      "source": [
        "# IMPORTANT: RUN THIS CELL IN ORDER TO IMPORT YOUR KAGGLE DATA SOURCES,\n",
        "# THEN FEEL FREE TO DELETE THIS CELL.\n",
        "# NOTE: THIS NOTEBOOK ENVIRONMENT DIFFERS FROM KAGGLE'S PYTHON\n",
        "# ENVIRONMENT SO THERE MAY BE MISSING LIBRARIES USED BY YOUR\n",
        "# NOTEBOOK.\n",
        "\n",
        "ashish2106_heartdiseaseprediction_path = kagglehub.dataset_download('ashish2106/heartdiseaseprediction')\n",
        "\n",
        "print('Data source import complete.')\n"
      ],
      "metadata": {
        "id": "8wDB0PNDT063"
      },
      "cell_type": "code",
      "outputs": [],
      "execution_count": null
    },
    {
      "cell_type": "code",
      "source": [
        "import numpy as np\n",
        "import pandas as pd\n",
        "\n",
        "import os\n",
        "for dirname, _, filenames in os.walk('/kaggle/input'):\n",
        "    for filename in filenames:\n",
        "        print(os.path.join(dirname, filename))\n"
      ],
      "metadata": {
        "execution": {
          "iopub.status.busy": "2024-11-09T05:10:39.062816Z",
          "iopub.execute_input": "2024-11-09T05:10:39.063706Z",
          "iopub.status.idle": "2024-11-09T05:10:39.079075Z",
          "shell.execute_reply.started": "2024-11-09T05:10:39.063646Z",
          "shell.execute_reply": "2024-11-09T05:10:39.077667Z"
        },
        "trusted": true,
        "id": "PJWbr-jZT068"
      },
      "outputs": [],
      "execution_count": null
    },
    {
      "cell_type": "markdown",
      "source": [
        "### 2. Importing the Dataset"
      ],
      "metadata": {
        "id": "1ofgkSPZT06-"
      }
    },
    {
      "cell_type": "code",
      "source": [
        "data = pd.read_csv('/kaggle/input/heart.csv')"
      ],
      "metadata": {
        "execution": {
          "iopub.status.busy": "2024-11-09T05:10:41.5271Z",
          "iopub.execute_input": "2024-11-09T05:10:41.527584Z",
          "iopub.status.idle": "2024-11-09T05:10:41.539744Z",
          "shell.execute_reply.started": "2024-11-09T05:10:41.527539Z",
          "shell.execute_reply": "2024-11-09T05:10:41.538401Z"
        },
        "trusted": true,
        "id": "4Wn2j7UxT07B"
      },
      "outputs": [],
      "execution_count": null
    },
    {
      "cell_type": "code",
      "source": [
        "import numpy as np\n",
        "\n",
        "data = np.genfromtxt('/kaggle/input/heart.csv', delimiter=',')\n"
      ],
      "metadata": {
        "execution": {
          "iopub.status.busy": "2024-11-09T05:10:43.410724Z",
          "iopub.execute_input": "2024-11-09T05:10:43.411212Z",
          "iopub.status.idle": "2024-11-09T05:10:43.43385Z",
          "shell.execute_reply.started": "2024-11-09T05:10:43.41116Z",
          "shell.execute_reply": "2024-11-09T05:10:43.432509Z"
        },
        "trusted": true,
        "id": "DKgGN9aNT07D"
      },
      "outputs": [],
      "execution_count": null
    },
    {
      "cell_type": "code",
      "source": [
        "from pandas import read_csv\n",
        "path = r\"/kaggle/input/heart.csv\"\n",
        "data = read_csv(path)\n",
        "print(data.shape)\n"
      ],
      "metadata": {
        "execution": {
          "iopub.status.busy": "2024-11-09T05:10:49.351115Z",
          "iopub.execute_input": "2024-11-09T05:10:49.351956Z",
          "iopub.status.idle": "2024-11-09T05:10:49.362736Z",
          "shell.execute_reply.started": "2024-11-09T05:10:49.351897Z",
          "shell.execute_reply": "2024-11-09T05:10:49.361538Z"
        },
        "trusted": true,
        "id": "D_jn2T_WT07F"
      },
      "outputs": [],
      "execution_count": null
    },
    {
      "cell_type": "code",
      "source": [
        "from pandas import read_csv\n",
        "path = r\"/kaggle/input/heart.csv\"\n",
        "data = read_csv(path)\n",
        "print(data.dtypes)"
      ],
      "metadata": {
        "trusted": true,
        "execution": {
          "iopub.status.busy": "2024-11-09T05:11:32.253744Z",
          "iopub.execute_input": "2024-11-09T05:11:32.254862Z",
          "iopub.status.idle": "2024-11-09T05:11:32.269143Z",
          "shell.execute_reply.started": "2024-11-09T05:11:32.254814Z",
          "shell.execute_reply": "2024-11-09T05:11:32.267571Z"
        },
        "id": "04U-gfBvT07H"
      },
      "outputs": [],
      "execution_count": null
    },
    {
      "cell_type": "code",
      "source": [
        "print(data['sex'].unique())\n"
      ],
      "metadata": {
        "execution": {
          "iopub.status.busy": "2024-11-09T05:11:40.22246Z",
          "iopub.execute_input": "2024-11-09T05:11:40.222868Z",
          "iopub.status.idle": "2024-11-09T05:11:40.230437Z",
          "shell.execute_reply.started": "2024-11-09T05:11:40.22283Z",
          "shell.execute_reply": "2024-11-09T05:11:40.229045Z"
        },
        "trusted": true,
        "id": "Bx0XXL5JT07I"
      },
      "outputs": [],
      "execution_count": null
    },
    {
      "cell_type": "code",
      "source": [
        "from pandas import read_csv\n",
        "from pandas import set_option\n",
        "path = r\"/kaggle/input/heart.csv\"\n",
        "names = ['age','sex','cp','trestbps','chol','fbs','restecg','thalach','exang','oldpeak','slope','ca','thal','target'\n",
        "]\n",
        "data = read_csv(path, names=names)\n",
        "\n",
        "print(data.shape)\n",
        "print(data.describe())\n"
      ],
      "metadata": {
        "trusted": true,
        "execution": {
          "iopub.status.busy": "2024-11-09T05:11:41.784475Z",
          "iopub.execute_input": "2024-11-09T05:11:41.784898Z",
          "iopub.status.idle": "2024-11-09T05:11:41.828642Z",
          "shell.execute_reply.started": "2024-11-09T05:11:41.784858Z",
          "shell.execute_reply": "2024-11-09T05:11:41.827413Z"
        },
        "id": "YbYFXNU1T07L"
      },
      "outputs": [],
      "execution_count": null
    },
    {
      "cell_type": "code",
      "source": [
        "print(data.head())"
      ],
      "metadata": {
        "execution": {
          "iopub.status.busy": "2024-11-09T05:11:47.331816Z",
          "iopub.execute_input": "2024-11-09T05:11:47.332252Z",
          "iopub.status.idle": "2024-11-09T05:11:47.346201Z",
          "shell.execute_reply.started": "2024-11-09T05:11:47.332203Z",
          "shell.execute_reply": "2024-11-09T05:11:47.344762Z"
        },
        "trusted": true,
        "id": "cuZA67IcT07M"
      },
      "outputs": [],
      "execution_count": null
    },
    {
      "cell_type": "code",
      "source": [
        "\n",
        "import pandas as pd\n",
        "import numpy as np\n",
        "from sklearn.model_selection import train_test_split\n",
        "from sklearn.linear_model import LinearRegression\n",
        "from sklearn.metrics import mean_squared_error, r2_score\n",
        "import matplotlib.pyplot as plt\n",
        "import seaborn as sns\n",
        "\n",
        "data = pd.read_csv('/kaggle/input/heart.csv')\n",
        "\n",
        "print(data.head())\n",
        "\n",
        "print(data.info())\n",
        "print(data.describe())\n",
        "\n",
        "print(\"Missing values in each column:\\n\", data.isnull().sum())\n"
      ],
      "metadata": {
        "execution": {
          "iopub.status.busy": "2024-11-09T05:11:49.643327Z",
          "iopub.execute_input": "2024-11-09T05:11:49.643766Z",
          "iopub.status.idle": "2024-11-09T05:11:49.70801Z",
          "shell.execute_reply.started": "2024-11-09T05:11:49.643727Z",
          "shell.execute_reply": "2024-11-09T05:11:49.706558Z"
        },
        "trusted": true,
        "id": "xgsNq8XyT07N"
      },
      "outputs": [],
      "execution_count": null
    },
    {
      "cell_type": "code",
      "source": [
        "\n",
        "plt.figure(figsize=(10, 8))\n",
        "sns.heatmap(data.corr(), annot=True, cmap='coolwarm')\n",
        "plt.title('Correlation Matrix')\n",
        "plt.show()\n",
        "\n",
        "sns.countplot(data['target'])\n",
        "plt.title('Distribution of Target Variable')\n",
        "plt.show()\n"
      ],
      "metadata": {
        "execution": {
          "iopub.status.busy": "2024-11-09T05:11:54.134271Z",
          "iopub.execute_input": "2024-11-09T05:11:54.134849Z",
          "iopub.status.idle": "2024-11-09T05:11:55.378465Z",
          "shell.execute_reply.started": "2024-11-09T05:11:54.134775Z",
          "shell.execute_reply": "2024-11-09T05:11:55.377228Z"
        },
        "trusted": true,
        "id": "0iAmk5jZT07O"
      },
      "outputs": [],
      "execution_count": null
    },
    {
      "cell_type": "code",
      "source": [
        "X = data.drop(columns=['target'])\n",
        "y = data['target']\n",
        "\n",
        "X_train, X_test, y_train, y_test = train_test_split(X, y, test_size=0.2, random_state=42)\n",
        "\n",
        "print(f\"Training set shape: X_train = {X_train.shape}, y_train = {y_train.shape}\")\n",
        "print(f\"Testing set shape: X_test = {X_test.shape}, y_test = {y_test.shape}\")"
      ],
      "metadata": {
        "trusted": true,
        "execution": {
          "iopub.status.busy": "2024-11-09T05:12:00.212093Z",
          "iopub.execute_input": "2024-11-09T05:12:00.212573Z",
          "iopub.status.idle": "2024-11-09T05:12:00.225647Z",
          "shell.execute_reply.started": "2024-11-09T05:12:00.212529Z",
          "shell.execute_reply": "2024-11-09T05:12:00.224056Z"
        },
        "id": "GhubjfF1T07P"
      },
      "outputs": [],
      "execution_count": null
    },
    {
      "cell_type": "code",
      "source": [
        "pip install hmmlearn"
      ],
      "metadata": {
        "trusted": true,
        "execution": {
          "iopub.status.busy": "2024-11-09T05:12:02.675627Z",
          "iopub.execute_input": "2024-11-09T05:12:02.676943Z",
          "iopub.status.idle": "2024-11-09T05:14:32.553638Z",
          "shell.execute_reply.started": "2024-11-09T05:12:02.676813Z",
          "shell.execute_reply": "2024-11-09T05:14:32.552029Z"
        },
        "id": "QyssUP7QT07Q"
      },
      "outputs": [],
      "execution_count": null
    },
    {
      "cell_type": "code",
      "source": [
        "import numpy as np\n",
        "from hmmlearn import hmm\n",
        "from sklearn.model_selection import train_test_split\n",
        "from sklearn.metrics import accuracy_score\n",
        "\n",
        "# Generate or load your sequential data (e.g., health indicators over time)\n",
        "# For illustration, let's create synthetic data for two states (healthy and high risk)\n",
        "# Feature values represent heart rate and blood pressure, for example\n",
        "data = np.array([\n",
        "    [70, 120], [68, 118], [72, 121], [75, 130],  # Healthy sequence\n",
        "    [90, 150], [95, 160], [100, 165], [92, 155], # High-risk sequence\n",
        "    # More sequences can be added\n",
        "])\n",
        "\n",
        "# Create labels representing the states for training purposes\n",
        "# (e.g., 0 for Healthy and 1 for High Risk)\n",
        "states = np.array([0, 0, 0, 0, 1, 1, 1, 1])\n",
        "\n",
        "# Split the data into training and testing sets\n",
        "X_train, X_test, y_train, y_test = train_test_split(data, states, test_size=0.25, random_state=42)\n",
        "\n",
        "# Reshape the data to 2D if working with sequences (batch, features)\n",
        "X_train = X_train.reshape(-1, 2)\n",
        "X_test = X_test.reshape(-1, 2)\n",
        "\n",
        "# Initialize and train the HMM model\n",
        "model = hmm.GaussianHMM(n_components=2, covariance_type=\"diag\", n_iter=100)\n",
        "\n",
        "# Fit the model to the training data\n",
        "model.fit(X_train)\n",
        "\n",
        "# Predict the states for the test data\n",
        "predicted_states = model.predict(X_test)\n",
        "\n",
        "# Evaluate the model's predictions\n",
        "accuracy = accuracy_score(y_test, predicted_states)\n",
        "print(\"Test Accuracy:\", accuracy)\n",
        "\n",
        "# Optionally, generate a sample sequence of states for future prediction\n",
        "_, generated_sequence = model.sample(10)\n",
        "print(\"Generated Sequential Data for Prediction:\\n\", generated_sequence)\n"
      ],
      "metadata": {
        "trusted": true,
        "execution": {
          "iopub.status.busy": "2024-11-09T05:14:39.078483Z",
          "iopub.execute_input": "2024-11-09T05:14:39.078972Z",
          "iopub.status.idle": "2024-11-09T05:14:39.136027Z",
          "shell.execute_reply.started": "2024-11-09T05:14:39.078926Z",
          "shell.execute_reply": "2024-11-09T05:14:39.134327Z"
        },
        "id": "pTuRNJGTT07Q"
      },
      "outputs": [],
      "execution_count": null
    },
    {
      "cell_type": "code",
      "source": [
        "# Import necessary libraries\n",
        "from sklearn.tree import DecisionTreeClassifier\n",
        "from sklearn.model_selection import train_test_split\n",
        "from sklearn.metrics import classification_report, accuracy_score\n",
        "from sklearn.datasets import load_iris\n",
        "\n",
        "# Step 1: Load and Prepare the Data\n",
        "# Here, we'll use the Iris dataset, a commonly used dataset for classification tasks\n",
        "data = load_iris()\n",
        "X = data.data  # Features\n",
        "y = data.target  # Labels\n",
        "\n",
        "# Split the data into training and testing sets\n",
        "X_train, X_test, y_train, y_test = train_test_split(X, y, test_size=0.3, random_state=42)\n",
        "\n",
        "# Step 2: Initialize and Train the CART Model (Decision Tree)\n",
        "# Create an instance of the DecisionTreeClassifier\n",
        "cart_model = DecisionTreeClassifier(criterion='gini', max_depth=4, random_state=42)\n",
        "\n",
        "# Train the model on the training data\n",
        "cart_model.fit(X_train, y_train)\n",
        "\n",
        "# Step 3: Make Predictions\n",
        "# Predict on the test data\n",
        "y_pred = cart_model.predict(X_test)\n",
        "\n",
        "# Step 4: Evaluate the Model\n",
        "# Calculate accuracy and display classification report\n",
        "accuracy = accuracy_score(y_test, y_pred)\n",
        "print(\"Test Accuracy:\", accuracy)\n",
        "print(\"\\nClassification Report:\\n\", classification_report(y_test, y_pred))\n"
      ],
      "metadata": {
        "trusted": true,
        "execution": {
          "iopub.status.busy": "2024-11-09T05:16:52.174579Z",
          "iopub.execute_input": "2024-11-09T05:16:52.175728Z",
          "iopub.status.idle": "2024-11-09T05:16:52.201634Z",
          "shell.execute_reply.started": "2024-11-09T05:16:52.175681Z",
          "shell.execute_reply": "2024-11-09T05:16:52.200333Z"
        },
        "id": "kdr7_Mq-T07R"
      },
      "outputs": [],
      "execution_count": null
    },
    {
      "cell_type": "code",
      "source": [
        "# Import necessary libraries\n",
        "from sklearn.ensemble import RandomForestClassifier, GradientBoostingClassifier, VotingClassifier\n",
        "from sklearn.tree import DecisionTreeClassifier\n",
        "from sklearn.linear_model import LogisticRegression\n",
        "from sklearn.model_selection import train_test_split\n",
        "from sklearn.metrics import accuracy_score, classification_report\n",
        "from sklearn.datasets import load_iris\n",
        "\n",
        "# Load the dataset\n",
        "data = load_iris()\n",
        "X = data.data  # Features\n",
        "y = data.target  # Labels\n",
        "\n",
        "# Split the dataset into training and testing sets\n",
        "X_train, X_test, y_train, y_test = train_test_split(X, y, test_size=0.3, random_state=42)\n",
        "\n",
        "# 1. Random Forest Classifier\n",
        "rf_model = RandomForestClassifier(n_estimators=100, random_state=42)\n",
        "rf_model.fit(X_train, y_train)\n",
        "y_pred_rf = rf_model.predict(X_test)\n",
        "\n",
        "print(\"Random Forest Accuracy:\", accuracy_score(y_test, y_pred_rf))\n",
        "print(\"Random Forest Classification Report:\\n\", classification_report(y_test, y_pred_rf))\n",
        "\n",
        "# 2. Gradient Boosting Classifier\n",
        "gb_model = GradientBoostingClassifier(n_estimators=100, random_state=42)\n",
        "gb_model.fit(X_train, y_train)\n",
        "y_pred_gb = gb_model.predict(X_test)\n",
        "\n",
        "print(\"Gradient Boosting Accuracy:\", accuracy_score(y_test, y_pred_gb))\n",
        "print(\"Gradient Boosting Classification Report:\\n\", classification_report(y_test, y_pred_gb))\n",
        "\n",
        "# 3. Voting Classifier\n",
        "# Using Logistic Regression, Decision Tree, and Random Forest in the Voting Classifier\n",
        "log_clf = LogisticRegression(random_state=42, max_iter=200)\n",
        "dt_clf = DecisionTreeClassifier(random_state=42)\n",
        "rf_clf = RandomForestClassifier(n_estimators=100, random_state=42)\n",
        "\n",
        "voting_clf = VotingClassifier(estimators=[\n",
        "    ('lr', log_clf),\n",
        "    ('dt', dt_clf),\n",
        "    ('rf', rf_clf)], voting='hard')\n",
        "\n",
        "voting_clf.fit(X_train, y_train)\n",
        "y_pred_voting = voting_clf.predict(X_test)\n",
        "\n",
        "print(\"Voting Classifier Accuracy:\", accuracy_score(y_test, y_pred_voting))\n",
        "print(\"Voting Classifier Classification Report:\\n\", classification_report(y_test, y_pred_voting))\n"
      ],
      "metadata": {
        "trusted": true,
        "id": "bFrzy-ZDT07R"
      },
      "outputs": [],
      "execution_count": null
    },
    {
      "cell_type": "code",
      "source": [
        "# Import necessary libraries\n",
        "import pandas as pd\n",
        "from sklearn.model_selection import train_test_split\n",
        "from sklearn.linear_model import LogisticRegression\n",
        "from sklearn.svm import SVC\n",
        "from sklearn.metrics import classification_report\n",
        "\n",
        "# Load your dataset (assuming a CSV file; modify the path to your actual dataset)\n",
        "data = pd.read_csv('/kaggle/input/heart.csv')\n",
        "\n",
        "# Step 1: Define the features (X) and the target (y)\n",
        "X = data.drop(columns=['target'])  # Drop the target column to create the feature set\n",
        "y = data['target']  # Define the target variable\n",
        "\n",
        "# Step 2: Split the data into training and testing sets\n",
        "X_train, X_test, y_train, y_test = train_test_split(X, y, test_size=0.2, random_state=42)\n",
        "\n",
        "# Step 3: Train a classification model (Logistic Regression or SVM)\n",
        "# Logistic Regression Example\n",
        "model = LogisticRegression(max_iter=1000, random_state=42)\n",
        "model.fit(X_train, y_train)\n",
        "\n",
        "# OR: SVM Example (uncomment to use)\n",
        "# model = SVC(kernel='linear', random_state=42)\n",
        "# model.fit(X_train, y_train)\n",
        "\n",
        "# Step 4: Generate predictions\n",
        "y_pred = model.predict(X_test)\n",
        "\n",
        "# Step 5: Generate the classification report\n",
        "report = classification_report(y_test, y_pred)\n",
        "\n",
        "# Step 6: Print the classification report\n",
        "print(\"Classification Report:\\n\", report)"
      ],
      "metadata": {
        "execution": {
          "iopub.status.busy": "2024-11-07T05:27:35.034019Z",
          "iopub.execute_input": "2024-11-07T05:27:35.034417Z",
          "iopub.status.idle": "2024-11-07T05:27:35.258629Z",
          "shell.execute_reply.started": "2024-11-07T05:27:35.03438Z",
          "shell.execute_reply": "2024-11-07T05:27:35.25747Z"
        },
        "trusted": true,
        "id": "IbLxqZwqT07S"
      },
      "outputs": [],
      "execution_count": null
    },
    {
      "cell_type": "code",
      "source": [
        "model = LinearRegression()\n",
        "\n",
        "model.fit(X_train, y_train)\n",
        "\n",
        "y_pred = model.predict(X_test)\n"
      ],
      "metadata": {
        "execution": {
          "iopub.status.busy": "2024-11-07T05:27:39.794916Z",
          "iopub.execute_input": "2024-11-07T05:27:39.795903Z",
          "iopub.status.idle": "2024-11-07T05:27:39.807513Z",
          "shell.execute_reply.started": "2024-11-07T05:27:39.795858Z",
          "shell.execute_reply": "2024-11-07T05:27:39.806561Z"
        },
        "trusted": true,
        "id": "rjzmsx3KT07T"
      },
      "outputs": [],
      "execution_count": null
    },
    {
      "cell_type": "code",
      "source": [
        "mse = mean_squared_error(y_test, y_pred)\n",
        "\n",
        "r2 = r2_score(y_test, y_pred)\n",
        "\n",
        "print(f\"Mean Squared Error (MSE): {mse}\")\n",
        "print(f\"R-squared Score (R²): {r2}\")\n",
        "\n",
        "print(\"Model Coefficients:\", model.coef_)\n",
        "print(\"Model Intercept:\", model.intercept_)\n"
      ],
      "metadata": {
        "execution": {
          "iopub.status.busy": "2024-11-07T05:27:43.318702Z",
          "iopub.execute_input": "2024-11-07T05:27:43.31984Z",
          "iopub.status.idle": "2024-11-07T05:27:43.328661Z",
          "shell.execute_reply.started": "2024-11-07T05:27:43.319777Z",
          "shell.execute_reply": "2024-11-07T05:27:43.327504Z"
        },
        "trusted": true,
        "id": "U-aVSRR3T07T"
      },
      "outputs": [],
      "execution_count": null
    },
    {
      "cell_type": "code",
      "source": [
        "comparison_df = pd.DataFrame({'Actual': y_test, 'Predicted': y_pred})\n",
        "\n",
        "plt.figure(figsize=(10, 6))\n",
        "plt.plot(comparison_df['Actual'].values, label='Actual')\n",
        "plt.plot(comparison_df['Predicted'].values, label='Predicted', linestyle='--')\n",
        "plt.title('Actual vs Predicted Values')\n",
        "plt.legend()\n",
        "plt.show()\n"
      ],
      "metadata": {
        "execution": {
          "iopub.status.busy": "2024-11-07T05:27:46.052532Z",
          "iopub.execute_input": "2024-11-07T05:27:46.053748Z",
          "iopub.status.idle": "2024-11-07T05:27:46.418366Z",
          "shell.execute_reply.started": "2024-11-07T05:27:46.0537Z",
          "shell.execute_reply": "2024-11-07T05:27:46.4172Z"
        },
        "trusted": true,
        "id": "cHcTXtkgT07U"
      },
      "outputs": [],
      "execution_count": null
    },
    {
      "cell_type": "code",
      "source": [
        "pip install scikit-learn pymc3"
      ],
      "metadata": {
        "execution": {
          "iopub.status.busy": "2024-11-07T05:26:24.662051Z",
          "iopub.status.idle": "2024-11-07T05:26:24.662851Z",
          "shell.execute_reply.started": "2024-11-07T05:26:24.662564Z",
          "shell.execute_reply": "2024-11-07T05:26:24.662594Z"
        },
        "trusted": true,
        "id": "7sok1xnET07V"
      },
      "outputs": [],
      "execution_count": null
    },
    {
      "cell_type": "code",
      "source": [
        "\n",
        "import pandas as pd\n",
        "from sklearn.model_selection import train_test_split\n",
        "from sklearn.linear_model import LogisticRegression\n",
        "from sklearn.metrics import accuracy_score, confusion_matrix, classification_report\n",
        "\n",
        "\n",
        "data = pd.read_csv('/kaggle/input/heart.csv')\n",
        "\n",
        "\n",
        "X = data.drop(columns=['target'])\n",
        "y = data['target']\n",
        "\n",
        "\n",
        "X_train, X_test, y_train, y_test = train_test_split(X, y, test_size=0.2, random_state=42)\n",
        "\n",
        "bayesian_lr_model = LogisticRegression(penalty='l2', solver='lbfgs', max_iter=1000)\n",
        "\n",
        "bayesian_lr_model.fit(X_train, y_train)\n",
        "\n",
        "y_pred_bayesian_lr = bayesian_lr_model.predict(X_test)\n",
        "\n",
        "accuracy_bayesian_lr = accuracy_score(y_test, y_pred_bayesian_lr)\n",
        "print(f\"Bayesian Logistic Regression Accuracy: {accuracy_bayesian_lr}\")\n",
        "print(\"Confusion Matrix:\\n\", confusion_matrix(y_test, y_pred_bayesian_lr))\n",
        "print(\"Classification Report:\\n\", classification_report(y_test, y_pred_bayesian_lr))\n"
      ],
      "metadata": {
        "execution": {
          "iopub.status.busy": "2024-11-07T05:27:50.455273Z",
          "iopub.execute_input": "2024-11-07T05:27:50.455743Z",
          "iopub.status.idle": "2024-11-07T05:27:50.681607Z",
          "shell.execute_reply.started": "2024-11-07T05:27:50.455695Z",
          "shell.execute_reply": "2024-11-07T05:27:50.68048Z"
        },
        "trusted": true,
        "id": "wNaYQqCGT07V"
      },
      "outputs": [],
      "execution_count": null
    },
    {
      "cell_type": "code",
      "source": [
        "from sklearn.svm import SVC\n",
        "\n",
        "svm_model = SVC(kernel='rbf', random_state=42)\n",
        "\n",
        "svm_model.fit(X_train, y_train)\n",
        "\n",
        "y_pred_svm = svm_model.predict(X_test)\n",
        "\n",
        "accuracy_svm = accuracy_score(y_test, y_pred_svm)\n",
        "print(f\"SVM Accuracy: {accuracy_svm}\")\n",
        "print(\"Confusion Matrix:\\n\", confusion_matrix(y_test, y_pred_svm))\n",
        "print(\"Classification Report:\\n\", classification_report(y_test, y_pred_svm))"
      ],
      "metadata": {
        "execution": {
          "iopub.status.busy": "2024-11-07T05:27:55.190657Z",
          "iopub.execute_input": "2024-11-07T05:27:55.191089Z",
          "iopub.status.idle": "2024-11-07T05:27:55.246891Z",
          "shell.execute_reply.started": "2024-11-07T05:27:55.191049Z",
          "shell.execute_reply": "2024-11-07T05:27:55.245774Z"
        },
        "trusted": true,
        "id": "bjB11T7bT07W"
      },
      "outputs": [],
      "execution_count": null
    },
    {
      "cell_type": "code",
      "source": [
        "import pandas as pd\n",
        "from sklearn.model_selection import train_test_split\n",
        "from sklearn.svm import SVC\n",
        "from sklearn.metrics import accuracy_score, confusion_matrix, classification_report\n",
        "\n",
        "# Load your dataset (assuming it's a CSV file or already loaded in a variable)\n",
        "data = pd.read_csv('/kaggle/input/heart.csv')\n",
        "\n",
        "# Define features and target\n",
        "X = data.drop('target', axis=1)  # Assuming 'target' is the label column\n",
        "y = data['target']  # The column you're trying to predict\n",
        "\n",
        "# Split the data into training and testing sets\n",
        "X_train, X_test, y_train, y_test = train_test_split(X, y, test_size=0.2, random_state=42)\n",
        "\n",
        "# Initialize and fit the SVM model\n",
        "svm_model = SVC(kernel='rbf', random_state=42)\n",
        "svm_model.fit(X_train, y_train)\n",
        "\n",
        "# Predict using the trained model\n",
        "y_pred_svm = svm_model.predict(X_test)\n",
        "\n",
        "# Evaluate the model\n",
        "accuracy_svm = accuracy_score(y_test, y_pred_svm)\n",
        "print(f\"SVM Accuracy: {accuracy_svm}\")\n",
        "\n",
        "# Confusion Matrix\n",
        "print(\"Confusion Matrix:\\n\", confusion_matrix(y_test, y_pred_svm))\n",
        "\n",
        "# Classification Report\n",
        "print(\"Classification Report:\\n\", classification_report(y_test, y_pred_svm))\n"
      ],
      "metadata": {
        "execution": {
          "iopub.status.busy": "2024-11-07T05:27:57.93307Z",
          "iopub.execute_input": "2024-11-07T05:27:57.933514Z",
          "iopub.status.idle": "2024-11-07T05:27:57.998412Z",
          "shell.execute_reply.started": "2024-11-07T05:27:57.933457Z",
          "shell.execute_reply": "2024-11-07T05:27:57.997181Z"
        },
        "trusted": true,
        "id": "X88FEJdNT07W"
      },
      "outputs": [],
      "execution_count": null
    },
    {
      "cell_type": "code",
      "source": [
        "import pandas as pd\n",
        "from sklearn.model_selection import train_test_split\n",
        "from sklearn.svm import SVC\n",
        "from sklearn.metrics import accuracy_score\n",
        "\n",
        "# Load your dataset\n",
        "df = pd.read_csv('/kaggle/input/heart.csv')\n",
        "\n",
        "# Define features (X) and target (y)\n",
        "X = df.drop('target', axis=1)  # Replace 'target' with your actual target column name if different\n",
        "y = df['target']\n",
        "\n",
        "# Split the data into training and testing sets\n",
        "X_train, X_test, y_train, y_test = train_test_split(X, y, test_size=0.2, random_state=42)\n",
        "\n",
        "# Initialize and fit the SVM model\n",
        "svm_model = SVC(kernel='rbf', random_state=42)\n",
        "svm_model.fit(X_train, y_train)\n",
        "\n",
        "# Predict using the trained model\n",
        "y_pred_svm = svm_model.predict(X_test)\n",
        "\n",
        "# Calculate accuracy\n",
        "accuracy_svm = accuracy_score(y_test, y_pred_svm)\n",
        "print(f\"SVM Model Accuracy: {accuracy_svm}\")\n"
      ],
      "metadata": {
        "execution": {
          "iopub.status.busy": "2024-11-07T05:28:01.634994Z",
          "iopub.execute_input": "2024-11-07T05:28:01.635424Z",
          "iopub.status.idle": "2024-11-07T05:28:01.68797Z",
          "shell.execute_reply.started": "2024-11-07T05:28:01.635384Z",
          "shell.execute_reply": "2024-11-07T05:28:01.686669Z"
        },
        "trusted": true,
        "id": "zR-UFqtET07X"
      },
      "outputs": [],
      "execution_count": null
    },
    {
      "cell_type": "code",
      "source": [
        "import matplotlib.pyplot as plt\n",
        "import seaborn as sns\n",
        "from sklearn.decomposition import PCA\n",
        "from sklearn.metrics import confusion_matrix\n",
        "\n",
        "def plot_confusion_matrix(y_test, y_pred, model_name):\n",
        "    cm = confusion_matrix(y_test, y_pred)\n",
        "    plt.figure(figsize=(6,4))\n",
        "    sns.heatmap(cm, annot=True, fmt=\"d\", cmap=\"Blues\", cbar=False)\n",
        "    plt.title(f\"Confusion Matrix for {model_name}\")\n",
        "    plt.ylabel('Actual')\n",
        "    plt.xlabel('Predicted')\n",
        "    plt.show()\n",
        "\n",
        "plot_confusion_matrix(y_test, y_pred_bayesian_lr, \"Bayesian Logistic Regression\")\n",
        "\n",
        "plot_confusion_matrix(y_test, y_pred_svm, \"SVM\")\n"
      ],
      "metadata": {
        "execution": {
          "iopub.status.busy": "2024-11-07T05:28:06.658202Z",
          "iopub.execute_input": "2024-11-07T05:28:06.658644Z",
          "iopub.status.idle": "2024-11-07T05:28:06.894848Z",
          "shell.execute_reply.started": "2024-11-07T05:28:06.658604Z",
          "shell.execute_reply": "2024-11-07T05:28:06.89372Z"
        },
        "trusted": true,
        "id": "DqDZkPFWT07X"
      },
      "outputs": [],
      "execution_count": null
    },
    {
      "cell_type": "code",
      "source": [
        "pip install scikit-learn matplotlib seaborn scipy"
      ],
      "metadata": {
        "execution": {
          "iopub.status.busy": "2024-11-07T05:28:13.039066Z",
          "iopub.execute_input": "2024-11-07T05:28:13.039751Z",
          "iopub.status.idle": "2024-11-07T05:28:44.305258Z",
          "shell.execute_reply.started": "2024-11-07T05:28:13.039708Z",
          "shell.execute_reply": "2024-11-07T05:28:44.303794Z"
        },
        "trusted": true,
        "id": "c-veA5laT07Y"
      },
      "outputs": [],
      "execution_count": null
    },
    {
      "cell_type": "code",
      "source": [
        "import csv\n",
        "with open('/kaggle/input/heart.csv', 'r') as file:\n",
        "   reader = csv.reader(file)\n",
        "   for row in reader:\n",
        "      print(row)"
      ],
      "metadata": {
        "execution": {
          "iopub.status.busy": "2024-11-07T05:28:44.395716Z",
          "iopub.execute_input": "2024-11-07T05:28:44.396452Z",
          "iopub.status.idle": "2024-11-07T05:28:44.419988Z",
          "shell.execute_reply.started": "2024-11-07T05:28:44.396397Z",
          "shell.execute_reply": "2024-11-07T05:28:44.418569Z"
        },
        "trusted": true,
        "id": "nV8uVIvoT07Y"
      },
      "outputs": [],
      "execution_count": null
    },
    {
      "cell_type": "markdown",
      "source": [
        "### 3. Taking Care of Missing Values"
      ],
      "metadata": {
        "id": "Y13NwObfT07Z"
      }
    },
    {
      "cell_type": "code",
      "source": [
        "data.isnull().sum()"
      ],
      "metadata": {
        "execution": {
          "iopub.status.busy": "2024-11-07T05:29:03.79246Z",
          "iopub.execute_input": "2024-11-07T05:29:03.793163Z",
          "iopub.status.idle": "2024-11-07T05:29:03.801842Z",
          "shell.execute_reply.started": "2024-11-07T05:29:03.79312Z",
          "shell.execute_reply": "2024-11-07T05:29:03.800766Z"
        },
        "trusted": true,
        "id": "A-z8qahKT07f"
      },
      "outputs": [],
      "execution_count": null
    },
    {
      "cell_type": "markdown",
      "source": [
        "### 4. Taking Care of Duplicate Values"
      ],
      "metadata": {
        "id": "O-RzXoJKT07i"
      }
    },
    {
      "cell_type": "code",
      "source": [
        "data_dup = data.duplicated().any()"
      ],
      "metadata": {
        "execution": {
          "iopub.status.busy": "2024-11-07T05:28:47.397301Z",
          "iopub.execute_input": "2024-11-07T05:28:47.398278Z",
          "iopub.status.idle": "2024-11-07T05:28:47.405893Z",
          "shell.execute_reply.started": "2024-11-07T05:28:47.398231Z",
          "shell.execute_reply": "2024-11-07T05:28:47.404745Z"
        },
        "trusted": true,
        "id": "2MQqDXagT07j"
      },
      "outputs": [],
      "execution_count": null
    },
    {
      "cell_type": "code",
      "source": [
        "data_dup"
      ],
      "metadata": {
        "execution": {
          "iopub.status.busy": "2024-11-07T05:28:50.655594Z",
          "iopub.execute_input": "2024-11-07T05:28:50.656006Z",
          "iopub.status.idle": "2024-11-07T05:28:50.662833Z",
          "shell.execute_reply.started": "2024-11-07T05:28:50.655959Z",
          "shell.execute_reply": "2024-11-07T05:28:50.661776Z"
        },
        "trusted": true,
        "id": "ewnbx41-T07k"
      },
      "outputs": [],
      "execution_count": null
    },
    {
      "cell_type": "code",
      "source": [
        "data = data.drop_duplicates()"
      ],
      "metadata": {
        "execution": {
          "iopub.status.busy": "2024-11-07T05:29:09.084042Z",
          "iopub.execute_input": "2024-11-07T05:29:09.084433Z",
          "iopub.status.idle": "2024-11-07T05:29:09.092607Z",
          "shell.execute_reply.started": "2024-11-07T05:29:09.084398Z",
          "shell.execute_reply": "2024-11-07T05:29:09.09157Z"
        },
        "trusted": true,
        "id": "IGnBh0XVT07n"
      },
      "outputs": [],
      "execution_count": null
    },
    {
      "cell_type": "code",
      "source": [
        "data_dup = data.duplicated().any()"
      ],
      "metadata": {
        "execution": {
          "iopub.status.busy": "2024-11-07T05:29:25.507348Z",
          "iopub.execute_input": "2024-11-07T05:29:25.507791Z",
          "iopub.status.idle": "2024-11-07T05:29:25.515Z",
          "shell.execute_reply.started": "2024-11-07T05:29:25.507748Z",
          "shell.execute_reply": "2024-11-07T05:29:25.513762Z"
        },
        "trusted": true,
        "id": "Jroh3-PoT07o"
      },
      "outputs": [],
      "execution_count": null
    },
    {
      "cell_type": "code",
      "source": [
        "data_dup"
      ],
      "metadata": {
        "execution": {
          "iopub.status.busy": "2024-11-07T05:29:34.602476Z",
          "iopub.execute_input": "2024-11-07T05:29:34.60348Z",
          "iopub.status.idle": "2024-11-07T05:29:34.609862Z",
          "shell.execute_reply.started": "2024-11-07T05:29:34.603435Z",
          "shell.execute_reply": "2024-11-07T05:29:34.608843Z"
        },
        "trusted": true,
        "id": "wza-lU9xT07q"
      },
      "outputs": [],
      "execution_count": null
    },
    {
      "cell_type": "markdown",
      "source": [
        "### 5. Data Processing"
      ],
      "metadata": {
        "id": "ZtAvDxMET07q"
      }
    },
    {
      "cell_type": "code",
      "source": [
        "cate_val = []\n",
        "cont_val = []\n",
        "for column in data.columns:\n",
        "    if data[column].nunique() <=10:\n",
        "        cate_val.append(column)\n",
        "    else:\n",
        "        cont_val.append(column)"
      ],
      "metadata": {
        "execution": {
          "iopub.status.busy": "2024-11-07T05:29:45.07569Z",
          "iopub.execute_input": "2024-11-07T05:29:45.076108Z",
          "iopub.status.idle": "2024-11-07T05:29:45.083119Z",
          "shell.execute_reply.started": "2024-11-07T05:29:45.076068Z",
          "shell.execute_reply": "2024-11-07T05:29:45.081892Z"
        },
        "trusted": true,
        "id": "58ktRZaIT079"
      },
      "outputs": [],
      "execution_count": null
    },
    {
      "cell_type": "code",
      "source": [
        "cate_val"
      ],
      "metadata": {
        "execution": {
          "iopub.status.busy": "2024-11-07T05:31:25.403287Z",
          "iopub.execute_input": "2024-11-07T05:31:25.403756Z",
          "iopub.status.idle": "2024-11-07T05:31:25.410466Z",
          "shell.execute_reply.started": "2024-11-07T05:31:25.403711Z",
          "shell.execute_reply": "2024-11-07T05:31:25.409312Z"
        },
        "trusted": true,
        "id": "iO43LAhtT07-"
      },
      "outputs": [],
      "execution_count": null
    },
    {
      "cell_type": "code",
      "source": [
        "cont_val"
      ],
      "metadata": {
        "execution": {
          "iopub.status.busy": "2024-11-07T05:31:29.480823Z",
          "iopub.execute_input": "2024-11-07T05:31:29.481245Z",
          "iopub.status.idle": "2024-11-07T05:31:29.487899Z",
          "shell.execute_reply.started": "2024-11-07T05:31:29.481204Z",
          "shell.execute_reply": "2024-11-07T05:31:29.48678Z"
        },
        "trusted": true,
        "id": "b37G0mANT07_"
      },
      "outputs": [],
      "execution_count": null
    },
    {
      "cell_type": "markdown",
      "source": [
        "### 6. Encoding Categorical Data"
      ],
      "metadata": {
        "id": "qw_7f-8cT08A"
      }
    },
    {
      "cell_type": "code",
      "source": [
        "cate_val"
      ],
      "metadata": {
        "execution": {
          "iopub.status.busy": "2024-11-07T05:44:47.903701Z",
          "iopub.execute_input": "2024-11-07T05:44:47.904769Z",
          "iopub.status.idle": "2024-11-07T05:44:47.911546Z",
          "shell.execute_reply.started": "2024-11-07T05:44:47.904721Z",
          "shell.execute_reply": "2024-11-07T05:44:47.910457Z"
        },
        "trusted": true,
        "id": "shLkzlGYT08B"
      },
      "outputs": [],
      "execution_count": null
    },
    {
      "cell_type": "code",
      "source": [
        "data['cp'].unique()"
      ],
      "metadata": {
        "execution": {
          "iopub.status.busy": "2024-11-07T05:44:53.369931Z",
          "iopub.execute_input": "2024-11-07T05:44:53.370339Z",
          "iopub.status.idle": "2024-11-07T05:44:53.378105Z",
          "shell.execute_reply.started": "2024-11-07T05:44:53.370302Z",
          "shell.execute_reply": "2024-11-07T05:44:53.376758Z"
        },
        "trusted": true,
        "id": "P5KmQIbrT08C"
      },
      "outputs": [],
      "execution_count": null
    },
    {
      "cell_type": "code",
      "source": [
        "cate_val.remove('sex')\n",
        "cate_val.remove('target')\n",
        "data = pd.get_dummies(data,columns = cate_val,drop_first=True)"
      ],
      "metadata": {
        "execution": {
          "iopub.status.busy": "2024-11-07T05:44:59.30465Z",
          "iopub.execute_input": "2024-11-07T05:44:59.3051Z",
          "iopub.status.idle": "2024-11-07T05:44:59.320635Z",
          "shell.execute_reply.started": "2024-11-07T05:44:59.305057Z",
          "shell.execute_reply": "2024-11-07T05:44:59.319618Z"
        },
        "trusted": true,
        "id": "BEI3fyfsT08C"
      },
      "outputs": [],
      "execution_count": null
    },
    {
      "cell_type": "code",
      "source": [
        "data.head()"
      ],
      "metadata": {
        "execution": {
          "iopub.status.busy": "2024-11-07T05:45:03.968462Z",
          "iopub.execute_input": "2024-11-07T05:45:03.968881Z",
          "iopub.status.idle": "2024-11-07T05:45:03.998002Z",
          "shell.execute_reply.started": "2024-11-07T05:45:03.968844Z",
          "shell.execute_reply": "2024-11-07T05:45:03.996932Z"
        },
        "trusted": true,
        "id": "K1CqF8KtT08D"
      },
      "outputs": [],
      "execution_count": null
    },
    {
      "cell_type": "markdown",
      "source": [
        "### 7. Feature Scaling"
      ],
      "metadata": {
        "id": "dVfbZT8zT08D"
      }
    },
    {
      "cell_type": "code",
      "source": [
        "data.head()"
      ],
      "metadata": {
        "execution": {
          "iopub.status.busy": "2024-11-07T05:46:57.278004Z",
          "iopub.execute_input": "2024-11-07T05:46:57.279022Z",
          "iopub.status.idle": "2024-11-07T05:46:57.302965Z",
          "shell.execute_reply.started": "2024-11-07T05:46:57.278972Z",
          "shell.execute_reply": "2024-11-07T05:46:57.301658Z"
        },
        "trusted": true,
        "id": "OY_RcB15T08E"
      },
      "outputs": [],
      "execution_count": null
    },
    {
      "cell_type": "code",
      "source": [
        "from sklearn.preprocessing import StandardScaler"
      ],
      "metadata": {
        "execution": {
          "iopub.status.busy": "2024-11-07T05:47:00.87772Z",
          "iopub.execute_input": "2024-11-07T05:47:00.878141Z",
          "iopub.status.idle": "2024-11-07T05:47:00.884335Z",
          "shell.execute_reply.started": "2024-11-07T05:47:00.878101Z",
          "shell.execute_reply": "2024-11-07T05:47:00.883089Z"
        },
        "trusted": true,
        "id": "_V5A9GR6T08F"
      },
      "outputs": [],
      "execution_count": null
    },
    {
      "cell_type": "code",
      "source": [
        "st = StandardScaler()\n",
        "data[cont_val] = st.fit_transform(data[cont_val])"
      ],
      "metadata": {
        "execution": {
          "iopub.status.busy": "2024-11-07T05:47:03.478221Z",
          "iopub.execute_input": "2024-11-07T05:47:03.478695Z",
          "iopub.status.idle": "2024-11-07T05:47:03.491136Z",
          "shell.execute_reply.started": "2024-11-07T05:47:03.478649Z",
          "shell.execute_reply": "2024-11-07T05:47:03.490013Z"
        },
        "trusted": true,
        "id": "XIuANEw5T08G"
      },
      "outputs": [],
      "execution_count": null
    },
    {
      "cell_type": "code",
      "source": [
        "data.head()"
      ],
      "metadata": {
        "execution": {
          "iopub.status.busy": "2024-11-07T05:47:06.675887Z",
          "iopub.execute_input": "2024-11-07T05:47:06.676334Z",
          "iopub.status.idle": "2024-11-07T05:47:06.703906Z",
          "shell.execute_reply.started": "2024-11-07T05:47:06.67629Z",
          "shell.execute_reply": "2024-11-07T05:47:06.702686Z"
        },
        "trusted": true,
        "id": "DF4BKa1QT08G"
      },
      "outputs": [],
      "execution_count": null
    },
    {
      "cell_type": "markdown",
      "source": [
        "### 8. Splitting The Dataset Into The Training Set And Test Set"
      ],
      "metadata": {
        "id": "KTsGZWr5T08J"
      }
    },
    {
      "cell_type": "code",
      "source": [
        "X = data.drop('target',axis=1)"
      ],
      "metadata": {
        "execution": {
          "iopub.status.busy": "2024-11-07T05:48:10.887905Z",
          "iopub.execute_input": "2024-11-07T05:48:10.888341Z",
          "iopub.status.idle": "2024-11-07T05:48:10.895152Z",
          "shell.execute_reply.started": "2024-11-07T05:48:10.888302Z",
          "shell.execute_reply": "2024-11-07T05:48:10.894014Z"
        },
        "trusted": true,
        "id": "aZRmUFj9T08L"
      },
      "outputs": [],
      "execution_count": null
    },
    {
      "cell_type": "code",
      "source": [
        "y = data['target']"
      ],
      "metadata": {
        "execution": {
          "iopub.status.busy": "2024-11-07T05:48:12.80622Z",
          "iopub.execute_input": "2024-11-07T05:48:12.806677Z",
          "iopub.status.idle": "2024-11-07T05:48:12.811694Z",
          "shell.execute_reply.started": "2024-11-07T05:48:12.806634Z",
          "shell.execute_reply": "2024-11-07T05:48:12.810613Z"
        },
        "trusted": true,
        "id": "zfpNZ4z_T08M"
      },
      "outputs": [],
      "execution_count": null
    },
    {
      "cell_type": "code",
      "source": [
        "from sklearn.model_selection import train_test_split"
      ],
      "metadata": {
        "execution": {
          "iopub.status.busy": "2024-11-07T05:48:15.109755Z",
          "iopub.execute_input": "2024-11-07T05:48:15.110608Z",
          "iopub.status.idle": "2024-11-07T05:48:15.115275Z",
          "shell.execute_reply.started": "2024-11-07T05:48:15.110564Z",
          "shell.execute_reply": "2024-11-07T05:48:15.114068Z"
        },
        "trusted": true,
        "id": "xoCWltq9T08M"
      },
      "outputs": [],
      "execution_count": null
    },
    {
      "cell_type": "code",
      "source": [
        "X_train,X_test,y_train,y_test=train_test_split(X,y,test_size=0.2,\n",
        "                                               random_state=42)"
      ],
      "metadata": {
        "execution": {
          "iopub.status.busy": "2024-11-07T05:48:17.079267Z",
          "iopub.execute_input": "2024-11-07T05:48:17.079685Z",
          "iopub.status.idle": "2024-11-07T05:48:17.08971Z",
          "shell.execute_reply.started": "2024-11-07T05:48:17.079645Z",
          "shell.execute_reply": "2024-11-07T05:48:17.088523Z"
        },
        "trusted": true,
        "id": "BC6jJip7T08N"
      },
      "outputs": [],
      "execution_count": null
    },
    {
      "cell_type": "code",
      "source": [
        "y_test"
      ],
      "metadata": {
        "execution": {
          "iopub.status.busy": "2024-11-07T05:48:22.783997Z",
          "iopub.execute_input": "2024-11-07T05:48:22.784393Z",
          "iopub.status.idle": "2024-11-07T05:48:22.79375Z",
          "shell.execute_reply.started": "2024-11-07T05:48:22.784356Z",
          "shell.execute_reply": "2024-11-07T05:48:22.792382Z"
        },
        "trusted": true,
        "id": "VrjqaOfmT08b"
      },
      "outputs": [],
      "execution_count": null
    },
    {
      "cell_type": "markdown",
      "source": [
        "### 9. Logistic Regression"
      ],
      "metadata": {
        "id": "KoslWbULT08d"
      }
    },
    {
      "cell_type": "code",
      "source": [
        "data.head()"
      ],
      "metadata": {
        "execution": {
          "iopub.status.busy": "2024-11-07T05:48:30.810776Z",
          "iopub.execute_input": "2024-11-07T05:48:30.811893Z",
          "iopub.status.idle": "2024-11-07T05:48:30.837939Z",
          "shell.execute_reply.started": "2024-11-07T05:48:30.811846Z",
          "shell.execute_reply": "2024-11-07T05:48:30.836764Z"
        },
        "trusted": true,
        "id": "CUfRXI5YT08d"
      },
      "outputs": [],
      "execution_count": null
    },
    {
      "cell_type": "code",
      "source": [
        "from sklearn.linear_model import LogisticRegression"
      ],
      "metadata": {
        "execution": {
          "iopub.status.busy": "2024-11-07T05:48:34.572213Z",
          "iopub.execute_input": "2024-11-07T05:48:34.573007Z",
          "iopub.status.idle": "2024-11-07T05:48:34.577709Z",
          "shell.execute_reply.started": "2024-11-07T05:48:34.572948Z",
          "shell.execute_reply": "2024-11-07T05:48:34.576459Z"
        },
        "trusted": true,
        "id": "4ATPMz3-T08e"
      },
      "outputs": [],
      "execution_count": null
    },
    {
      "cell_type": "code",
      "source": [
        "log = LogisticRegression()\n",
        "log.fit(X_train,y_train)"
      ],
      "metadata": {
        "execution": {
          "iopub.status.busy": "2024-11-07T05:48:36.972752Z",
          "iopub.execute_input": "2024-11-07T05:48:36.973817Z",
          "iopub.status.idle": "2024-11-07T05:48:36.997274Z",
          "shell.execute_reply.started": "2024-11-07T05:48:36.973768Z",
          "shell.execute_reply": "2024-11-07T05:48:36.996235Z"
        },
        "trusted": true,
        "id": "JT60cm5qT08e"
      },
      "outputs": [],
      "execution_count": null
    },
    {
      "cell_type": "code",
      "source": [
        "y_pred1 = log.predict(X_test)"
      ],
      "metadata": {
        "execution": {
          "iopub.status.busy": "2024-11-07T05:48:43.672618Z",
          "iopub.execute_input": "2024-11-07T05:48:43.673595Z",
          "iopub.status.idle": "2024-11-07T05:48:43.681659Z",
          "shell.execute_reply.started": "2024-11-07T05:48:43.673548Z",
          "shell.execute_reply": "2024-11-07T05:48:43.680554Z"
        },
        "trusted": true,
        "id": "jUheN4PxT08e"
      },
      "outputs": [],
      "execution_count": null
    },
    {
      "cell_type": "code",
      "source": [
        "from sklearn.metrics import accuracy_score"
      ],
      "metadata": {
        "execution": {
          "iopub.status.busy": "2024-11-07T05:48:45.772442Z",
          "iopub.execute_input": "2024-11-07T05:48:45.773539Z",
          "iopub.status.idle": "2024-11-07T05:48:45.778048Z",
          "shell.execute_reply.started": "2024-11-07T05:48:45.773475Z",
          "shell.execute_reply": "2024-11-07T05:48:45.776866Z"
        },
        "trusted": true,
        "id": "MB-A9Gu2T08f"
      },
      "outputs": [],
      "execution_count": null
    },
    {
      "cell_type": "code",
      "source": [
        "accuracy_score(y_test,y_pred1)"
      ],
      "metadata": {
        "execution": {
          "iopub.status.busy": "2024-11-07T05:48:48.102242Z",
          "iopub.execute_input": "2024-11-07T05:48:48.103185Z",
          "iopub.status.idle": "2024-11-07T05:48:48.111702Z",
          "shell.execute_reply.started": "2024-11-07T05:48:48.103137Z",
          "shell.execute_reply": "2024-11-07T05:48:48.110517Z"
        },
        "trusted": true,
        "id": "K7kETyUaT08f"
      },
      "outputs": [],
      "execution_count": null
    },
    {
      "cell_type": "markdown",
      "source": [
        "### 10. SVC"
      ],
      "metadata": {
        "id": "U27pyigtT08f"
      }
    },
    {
      "cell_type": "code",
      "source": [
        "from sklearn import svm"
      ],
      "metadata": {
        "execution": {
          "iopub.status.busy": "2024-11-07T05:48:58.275127Z",
          "iopub.execute_input": "2024-11-07T05:48:58.275592Z",
          "iopub.status.idle": "2024-11-07T05:48:58.280777Z",
          "shell.execute_reply.started": "2024-11-07T05:48:58.275547Z",
          "shell.execute_reply": "2024-11-07T05:48:58.279577Z"
        },
        "trusted": true,
        "id": "iDXkDgxwT08g"
      },
      "outputs": [],
      "execution_count": null
    },
    {
      "cell_type": "code",
      "source": [
        "svm = svm.SVC()"
      ],
      "metadata": {
        "execution": {
          "iopub.status.busy": "2024-11-07T05:49:00.672152Z",
          "iopub.execute_input": "2024-11-07T05:49:00.672591Z",
          "iopub.status.idle": "2024-11-07T05:49:00.677601Z",
          "shell.execute_reply.started": "2024-11-07T05:49:00.672548Z",
          "shell.execute_reply": "2024-11-07T05:49:00.676361Z"
        },
        "trusted": true,
        "id": "7hUCPH4JT08h"
      },
      "outputs": [],
      "execution_count": null
    },
    {
      "cell_type": "code",
      "source": [
        "svm.fit(X_train,y_train)"
      ],
      "metadata": {
        "execution": {
          "iopub.status.busy": "2024-11-07T05:49:02.984419Z",
          "iopub.execute_input": "2024-11-07T05:49:02.985658Z",
          "iopub.status.idle": "2024-11-07T05:49:03.000653Z",
          "shell.execute_reply.started": "2024-11-07T05:49:02.985607Z",
          "shell.execute_reply": "2024-11-07T05:49:02.999226Z"
        },
        "trusted": true,
        "id": "vS5Fv_8jT08h"
      },
      "outputs": [],
      "execution_count": null
    },
    {
      "cell_type": "code",
      "source": [
        "y_pred2 = svm.predict(X_test)"
      ],
      "metadata": {
        "execution": {
          "iopub.status.busy": "2024-11-07T05:49:05.373532Z",
          "iopub.execute_input": "2024-11-07T05:49:05.373961Z",
          "iopub.status.idle": "2024-11-07T05:49:05.382571Z",
          "shell.execute_reply.started": "2024-11-07T05:49:05.37392Z",
          "shell.execute_reply": "2024-11-07T05:49:05.381311Z"
        },
        "trusted": true,
        "id": "d6MwokWNT08h"
      },
      "outputs": [],
      "execution_count": null
    },
    {
      "cell_type": "code",
      "source": [
        "accuracy_score(y_test,y_pred2)"
      ],
      "metadata": {
        "execution": {
          "iopub.status.busy": "2024-11-07T05:49:07.791825Z",
          "iopub.execute_input": "2024-11-07T05:49:07.792265Z",
          "iopub.status.idle": "2024-11-07T05:49:07.800902Z",
          "shell.execute_reply.started": "2024-11-07T05:49:07.792222Z",
          "shell.execute_reply": "2024-11-07T05:49:07.799783Z"
        },
        "trusted": true,
        "id": "COcP5GnET08i"
      },
      "outputs": [],
      "execution_count": null
    },
    {
      "cell_type": "markdown",
      "source": [
        "### 11. KNeighbors Classifier"
      ],
      "metadata": {
        "id": "DCXj4LIdT08i"
      }
    },
    {
      "cell_type": "code",
      "source": [
        "from sklearn.neighbors import KNeighborsClassifier"
      ],
      "metadata": {
        "execution": {
          "iopub.status.busy": "2024-11-07T05:49:15.074177Z",
          "iopub.execute_input": "2024-11-07T05:49:15.074638Z",
          "iopub.status.idle": "2024-11-07T05:49:15.126779Z",
          "shell.execute_reply.started": "2024-11-07T05:49:15.074596Z",
          "shell.execute_reply": "2024-11-07T05:49:15.125662Z"
        },
        "trusted": true,
        "id": "h2XO1DDgT08j"
      },
      "outputs": [],
      "execution_count": null
    },
    {
      "cell_type": "code",
      "source": [
        "knn = KNeighborsClassifier()"
      ],
      "metadata": {
        "execution": {
          "iopub.status.busy": "2024-11-07T05:49:17.47185Z",
          "iopub.execute_input": "2024-11-07T05:49:17.472835Z",
          "iopub.status.idle": "2024-11-07T05:49:17.477066Z",
          "shell.execute_reply.started": "2024-11-07T05:49:17.472791Z",
          "shell.execute_reply": "2024-11-07T05:49:17.476008Z"
        },
        "trusted": true,
        "id": "ffBhnvr1T08j"
      },
      "outputs": [],
      "execution_count": null
    },
    {
      "cell_type": "code",
      "source": [
        "knn.fit(X_train,y_train)"
      ],
      "metadata": {
        "execution": {
          "iopub.status.busy": "2024-11-07T05:49:19.491323Z",
          "iopub.execute_input": "2024-11-07T05:49:19.491756Z",
          "iopub.status.idle": "2024-11-07T05:49:19.504086Z",
          "shell.execute_reply.started": "2024-11-07T05:49:19.491714Z",
          "shell.execute_reply": "2024-11-07T05:49:19.502873Z"
        },
        "trusted": true,
        "id": "AvB1ip0LT08k"
      },
      "outputs": [],
      "execution_count": null
    },
    {
      "cell_type": "code",
      "source": [
        "y_pred3=knn.predict(X_test)"
      ],
      "metadata": {
        "execution": {
          "iopub.status.busy": "2024-11-07T05:49:23.471499Z",
          "iopub.execute_input": "2024-11-07T05:49:23.472548Z",
          "iopub.status.idle": "2024-11-07T05:49:23.560382Z",
          "shell.execute_reply.started": "2024-11-07T05:49:23.472476Z",
          "shell.execute_reply": "2024-11-07T05:49:23.559136Z"
        },
        "trusted": true,
        "id": "jPNY2U49T08k"
      },
      "outputs": [],
      "execution_count": null
    },
    {
      "cell_type": "code",
      "source": [
        "accuracy_score(y_test,y_pred3)"
      ],
      "metadata": {
        "execution": {
          "iopub.status.busy": "2024-11-07T05:49:26.072598Z",
          "iopub.execute_input": "2024-11-07T05:49:26.073061Z",
          "iopub.status.idle": "2024-11-07T05:49:26.082172Z",
          "shell.execute_reply.started": "2024-11-07T05:49:26.073021Z",
          "shell.execute_reply": "2024-11-07T05:49:26.080853Z"
        },
        "trusted": true,
        "id": "hHtGBOvJT08l"
      },
      "outputs": [],
      "execution_count": null
    },
    {
      "cell_type": "code",
      "source": [
        "score = []\n",
        "\n",
        "for k in range(1,40):\n",
        "    knn=KNeighborsClassifier(n_neighbors=k)\n",
        "    knn.fit(X_train,y_train)\n",
        "    y_pred=knn.predict(X_test)\n",
        "    score.append(accuracy_score(y_test,y_pred))"
      ],
      "metadata": {
        "execution": {
          "iopub.status.busy": "2024-11-07T05:49:51.575816Z",
          "iopub.execute_input": "2024-11-07T05:49:51.576723Z",
          "iopub.status.idle": "2024-11-07T05:49:51.998687Z",
          "shell.execute_reply.started": "2024-11-07T05:49:51.576668Z",
          "shell.execute_reply": "2024-11-07T05:49:51.997744Z"
        },
        "trusted": true,
        "id": "ULsjqM-dT08n"
      },
      "outputs": [],
      "execution_count": null
    },
    {
      "cell_type": "code",
      "source": [
        "score"
      ],
      "metadata": {
        "execution": {
          "iopub.status.busy": "2024-11-07T05:49:56.98447Z",
          "iopub.execute_input": "2024-11-07T05:49:56.984933Z",
          "iopub.status.idle": "2024-11-07T05:49:56.992658Z",
          "shell.execute_reply.started": "2024-11-07T05:49:56.984888Z",
          "shell.execute_reply": "2024-11-07T05:49:56.991462Z"
        },
        "trusted": true,
        "id": "i97lDGa2T08o"
      },
      "outputs": [],
      "execution_count": null
    },
    {
      "cell_type": "code",
      "source": [
        "import matplotlib.pyplot as plt"
      ],
      "metadata": {
        "execution": {
          "iopub.status.busy": "2024-11-07T05:50:08.275779Z",
          "iopub.execute_input": "2024-11-07T05:50:08.276226Z",
          "iopub.status.idle": "2024-11-07T05:50:08.28137Z",
          "shell.execute_reply.started": "2024-11-07T05:50:08.276185Z",
          "shell.execute_reply": "2024-11-07T05:50:08.28016Z"
        },
        "trusted": true,
        "id": "Rs_ceiYbT08o"
      },
      "outputs": [],
      "execution_count": null
    },
    {
      "cell_type": "code",
      "source": [
        "plt.plot(score)\n",
        "plt.xlabel(\"K Value\")\n",
        "plt.ylabel(\"Acc\")\n",
        "plt.show()"
      ],
      "metadata": {
        "execution": {
          "iopub.status.busy": "2024-11-07T05:50:10.676444Z",
          "iopub.execute_input": "2024-11-07T05:50:10.676911Z",
          "iopub.status.idle": "2024-11-07T05:50:10.906338Z",
          "shell.execute_reply.started": "2024-11-07T05:50:10.67687Z",
          "shell.execute_reply": "2024-11-07T05:50:10.905258Z"
        },
        "trusted": true,
        "id": "l7-5t6yOT08p"
      },
      "outputs": [],
      "execution_count": null
    },
    {
      "cell_type": "code",
      "source": [
        "knn=KNeighborsClassifier(n_neighbors=2)\n",
        "knn.fit(X_train,y_train)\n",
        "y_pred=knn.predict(X_test)\n",
        "accuracy_score(y_test,y_pred)"
      ],
      "metadata": {
        "execution": {
          "iopub.status.busy": "2024-11-07T05:50:17.773923Z",
          "iopub.execute_input": "2024-11-07T05:50:17.774342Z",
          "iopub.status.idle": "2024-11-07T05:50:17.796199Z",
          "shell.execute_reply.started": "2024-11-07T05:50:17.774305Z",
          "shell.execute_reply": "2024-11-07T05:50:17.794962Z"
        },
        "trusted": true,
        "id": "FOA7gsVuT08p"
      },
      "outputs": [],
      "execution_count": null
    },
    {
      "cell_type": "markdown",
      "source": [
        "### Non-Linear ML Algorithms"
      ],
      "metadata": {
        "id": "XkUBmqmwT08q"
      }
    },
    {
      "cell_type": "code",
      "source": [
        "data = pd.read_csv('/kaggle/input/heart.csv')"
      ],
      "metadata": {
        "execution": {
          "iopub.status.busy": "2024-11-07T05:50:28.282244Z",
          "iopub.execute_input": "2024-11-07T05:50:28.282733Z",
          "iopub.status.idle": "2024-11-07T05:50:28.303145Z",
          "shell.execute_reply.started": "2024-11-07T05:50:28.282669Z",
          "shell.execute_reply": "2024-11-07T05:50:28.301995Z"
        },
        "trusted": true,
        "id": "cc2_S8B9T08q"
      },
      "outputs": [],
      "execution_count": null
    },
    {
      "cell_type": "code",
      "source": [
        "data = data.drop_duplicates()"
      ],
      "metadata": {
        "execution": {
          "iopub.status.busy": "2024-11-07T05:50:37.273435Z",
          "iopub.execute_input": "2024-11-07T05:50:37.274714Z",
          "iopub.status.idle": "2024-11-07T05:50:37.283368Z",
          "shell.execute_reply.started": "2024-11-07T05:50:37.274661Z",
          "shell.execute_reply": "2024-11-07T05:50:37.282331Z"
        },
        "trusted": true,
        "id": "y5Y5R2KzT08q"
      },
      "outputs": [],
      "execution_count": null
    },
    {
      "cell_type": "code",
      "source": [
        "X = data.drop('target',axis=1)\n",
        "y=data['target']"
      ],
      "metadata": {
        "execution": {
          "iopub.status.busy": "2024-11-07T05:51:02.784382Z",
          "iopub.execute_input": "2024-11-07T05:51:02.784845Z",
          "iopub.status.idle": "2024-11-07T05:51:02.790995Z",
          "shell.execute_reply.started": "2024-11-07T05:51:02.784802Z",
          "shell.execute_reply": "2024-11-07T05:51:02.789841Z"
        },
        "trusted": true,
        "id": "FnKw5WbgT08r"
      },
      "outputs": [],
      "execution_count": null
    },
    {
      "cell_type": "code",
      "source": [
        "X_train,X_test,y_train,y_test= train_test_split(X,y,test_size=0.2,\n",
        "                                                random_state=42)"
      ],
      "metadata": {
        "execution": {
          "iopub.status.busy": "2024-11-07T05:51:04.97183Z",
          "iopub.execute_input": "2024-11-07T05:51:04.972259Z",
          "iopub.status.idle": "2024-11-07T05:51:04.979748Z",
          "shell.execute_reply.started": "2024-11-07T05:51:04.972222Z",
          "shell.execute_reply": "2024-11-07T05:51:04.978444Z"
        },
        "trusted": true,
        "id": "0KvpV6_JT08r"
      },
      "outputs": [],
      "execution_count": null
    },
    {
      "cell_type": "markdown",
      "source": [
        "### 12. Decision Tree Classifier"
      ],
      "metadata": {
        "id": "0rKbdN4HT08s"
      }
    },
    {
      "cell_type": "code",
      "source": [
        "from sklearn.tree import DecisionTreeClassifier"
      ],
      "metadata": {
        "execution": {
          "iopub.status.busy": "2024-11-07T05:51:14.996546Z",
          "iopub.execute_input": "2024-11-07T05:51:14.997004Z",
          "iopub.status.idle": "2024-11-07T05:51:15.002534Z",
          "shell.execute_reply.started": "2024-11-07T05:51:14.996946Z",
          "shell.execute_reply": "2024-11-07T05:51:15.001313Z"
        },
        "trusted": true,
        "id": "EIEa9nq1T08s"
      },
      "outputs": [],
      "execution_count": null
    },
    {
      "cell_type": "code",
      "source": [
        "dt = DecisionTreeClassifier()"
      ],
      "metadata": {
        "execution": {
          "iopub.status.busy": "2024-11-07T05:51:18.372442Z",
          "iopub.execute_input": "2024-11-07T05:51:18.372905Z",
          "iopub.status.idle": "2024-11-07T05:51:18.377831Z",
          "shell.execute_reply.started": "2024-11-07T05:51:18.372862Z",
          "shell.execute_reply": "2024-11-07T05:51:18.376576Z"
        },
        "trusted": true,
        "id": "qC6mkD0cT08t"
      },
      "outputs": [],
      "execution_count": null
    },
    {
      "cell_type": "code",
      "source": [
        "dt.fit(X_train,y_train)"
      ],
      "metadata": {
        "execution": {
          "iopub.status.busy": "2024-11-07T05:51:20.776583Z",
          "iopub.execute_input": "2024-11-07T05:51:20.777449Z",
          "iopub.status.idle": "2024-11-07T05:51:20.791619Z",
          "shell.execute_reply.started": "2024-11-07T05:51:20.777399Z",
          "shell.execute_reply": "2024-11-07T05:51:20.790463Z"
        },
        "trusted": true,
        "id": "r1C7M2pFT08u"
      },
      "outputs": [],
      "execution_count": null
    },
    {
      "cell_type": "code",
      "source": [
        "y_pred4= dt.predict(X_test)"
      ],
      "metadata": {
        "execution": {
          "iopub.status.busy": "2024-11-07T05:51:28.072568Z",
          "iopub.execute_input": "2024-11-07T05:51:28.073029Z",
          "iopub.status.idle": "2024-11-07T05:51:28.080524Z",
          "shell.execute_reply.started": "2024-11-07T05:51:28.072984Z",
          "shell.execute_reply": "2024-11-07T05:51:28.07927Z"
        },
        "trusted": true,
        "id": "Lxp33i9YT08u"
      },
      "outputs": [],
      "execution_count": null
    },
    {
      "cell_type": "code",
      "source": [
        "accuracy_score(y_test,y_pred4)"
      ],
      "metadata": {
        "execution": {
          "iopub.status.busy": "2024-11-07T05:51:30.499068Z",
          "iopub.execute_input": "2024-11-07T05:51:30.499476Z",
          "iopub.status.idle": "2024-11-07T05:51:30.509419Z",
          "shell.execute_reply.started": "2024-11-07T05:51:30.499441Z",
          "shell.execute_reply": "2024-11-07T05:51:30.508035Z"
        },
        "trusted": true,
        "id": "EHasTLQQT08u"
      },
      "outputs": [],
      "execution_count": null
    },
    {
      "cell_type": "markdown",
      "source": [
        "### 13. Random Forest Classifier"
      ],
      "metadata": {
        "id": "5-coJYlzT08u"
      }
    },
    {
      "cell_type": "code",
      "source": [
        "from sklearn.ensemble import RandomForestClassifier"
      ],
      "metadata": {
        "execution": {
          "iopub.status.busy": "2024-11-07T05:51:40.80789Z",
          "iopub.execute_input": "2024-11-07T05:51:40.808318Z",
          "iopub.status.idle": "2024-11-07T05:51:40.902034Z",
          "shell.execute_reply.started": "2024-11-07T05:51:40.808277Z",
          "shell.execute_reply": "2024-11-07T05:51:40.901062Z"
        },
        "trusted": true,
        "id": "ehAKIa6XT08v"
      },
      "outputs": [],
      "execution_count": null
    },
    {
      "cell_type": "code",
      "source": [
        "rf = RandomForestClassifier()"
      ],
      "metadata": {
        "execution": {
          "iopub.status.busy": "2024-11-07T05:51:44.681768Z",
          "iopub.execute_input": "2024-11-07T05:51:44.683179Z",
          "iopub.status.idle": "2024-11-07T05:51:44.688231Z",
          "shell.execute_reply.started": "2024-11-07T05:51:44.683129Z",
          "shell.execute_reply": "2024-11-07T05:51:44.686811Z"
        },
        "trusted": true,
        "id": "SNq3UkiQT08v"
      },
      "outputs": [],
      "execution_count": null
    },
    {
      "cell_type": "code",
      "source": [
        "rf.fit(X_train,y_train)"
      ],
      "metadata": {
        "execution": {
          "iopub.status.busy": "2024-11-07T05:51:46.893528Z",
          "iopub.execute_input": "2024-11-07T05:51:46.893997Z",
          "iopub.status.idle": "2024-11-07T05:51:47.08065Z",
          "shell.execute_reply.started": "2024-11-07T05:51:46.893954Z",
          "shell.execute_reply": "2024-11-07T05:51:47.079568Z"
        },
        "trusted": true,
        "id": "dgXfCEnXT08v"
      },
      "outputs": [],
      "execution_count": null
    },
    {
      "cell_type": "code",
      "source": [
        "y_pred5= rf.predict(X_test)"
      ],
      "metadata": {
        "execution": {
          "iopub.status.busy": "2024-11-07T05:51:49.209334Z",
          "iopub.execute_input": "2024-11-07T05:51:49.210397Z",
          "iopub.status.idle": "2024-11-07T05:51:49.226979Z",
          "shell.execute_reply.started": "2024-11-07T05:51:49.210349Z",
          "shell.execute_reply": "2024-11-07T05:51:49.225743Z"
        },
        "trusted": true,
        "id": "_wCv9pziT08w"
      },
      "outputs": [],
      "execution_count": null
    },
    {
      "cell_type": "code",
      "source": [
        "accuracy_score(y_test,y_pred5)"
      ],
      "metadata": {
        "execution": {
          "iopub.status.busy": "2024-11-07T05:51:54.075418Z",
          "iopub.execute_input": "2024-11-07T05:51:54.075886Z",
          "iopub.status.idle": "2024-11-07T05:51:54.085309Z",
          "shell.execute_reply.started": "2024-11-07T05:51:54.075845Z",
          "shell.execute_reply": "2024-11-07T05:51:54.084171Z"
        },
        "trusted": true,
        "id": "Qjap4IIFT08w"
      },
      "outputs": [],
      "execution_count": null
    },
    {
      "cell_type": "markdown",
      "source": [
        "### 14. Gradient Boosting Classifier"
      ],
      "metadata": {
        "id": "yzoUNO22T08w"
      }
    },
    {
      "cell_type": "code",
      "source": [
        "from sklearn.ensemble import GradientBoostingClassifier"
      ],
      "metadata": {
        "execution": {
          "iopub.status.busy": "2024-11-07T05:52:08.676601Z",
          "iopub.execute_input": "2024-11-07T05:52:08.677089Z",
          "iopub.status.idle": "2024-11-07T05:52:08.682761Z",
          "shell.execute_reply.started": "2024-11-07T05:52:08.677045Z",
          "shell.execute_reply": "2024-11-07T05:52:08.681582Z"
        },
        "trusted": true,
        "id": "NRbM5JTlT08w"
      },
      "outputs": [],
      "execution_count": null
    },
    {
      "cell_type": "code",
      "source": [
        "gbc = GradientBoostingClassifier()"
      ],
      "metadata": {
        "execution": {
          "iopub.status.busy": "2024-11-07T05:52:11.999031Z",
          "iopub.execute_input": "2024-11-07T05:52:11.999459Z",
          "iopub.status.idle": "2024-11-07T05:52:12.004594Z",
          "shell.execute_reply.started": "2024-11-07T05:52:11.999421Z",
          "shell.execute_reply": "2024-11-07T05:52:12.003372Z"
        },
        "trusted": true,
        "id": "GfKCiO8aT08x"
      },
      "outputs": [],
      "execution_count": null
    },
    {
      "cell_type": "code",
      "source": [
        "gbc.fit(X_train,y_train)"
      ],
      "metadata": {
        "execution": {
          "iopub.status.busy": "2024-11-07T05:52:14.196993Z",
          "iopub.execute_input": "2024-11-07T05:52:14.197434Z",
          "iopub.status.idle": "2024-11-07T05:52:14.324847Z",
          "shell.execute_reply.started": "2024-11-07T05:52:14.197393Z",
          "shell.execute_reply": "2024-11-07T05:52:14.323739Z"
        },
        "trusted": true,
        "id": "5-5RXp9KT08y"
      },
      "outputs": [],
      "execution_count": null
    },
    {
      "cell_type": "code",
      "source": [
        "y_pred6 = gbc.predict(X_test)"
      ],
      "metadata": {
        "execution": {
          "iopub.status.busy": "2024-11-07T05:52:16.894046Z",
          "iopub.execute_input": "2024-11-07T05:52:16.894515Z",
          "iopub.status.idle": "2024-11-07T05:52:16.905143Z",
          "shell.execute_reply.started": "2024-11-07T05:52:16.894455Z",
          "shell.execute_reply": "2024-11-07T05:52:16.903837Z"
        },
        "trusted": true,
        "id": "5WhU8OGCT08y"
      },
      "outputs": [],
      "execution_count": null
    },
    {
      "cell_type": "code",
      "source": [
        "accuracy_score(y_test,y_pred6)"
      ],
      "metadata": {
        "execution": {
          "iopub.status.busy": "2024-11-07T05:52:19.645839Z",
          "iopub.execute_input": "2024-11-07T05:52:19.646282Z",
          "iopub.status.idle": "2024-11-07T05:52:19.656185Z",
          "shell.execute_reply.started": "2024-11-07T05:52:19.64624Z",
          "shell.execute_reply": "2024-11-07T05:52:19.655035Z"
        },
        "trusted": true,
        "id": "HDwTkXlhT08z"
      },
      "outputs": [],
      "execution_count": null
    },
    {
      "cell_type": "code",
      "source": [
        "final_data = pd.DataFrame({'Models':['LR','SVM','KNN','DT','RF','GB'],\n",
        "                          'ACC':[accuracy_score(y_test,y_pred1)*100,\n",
        "                                accuracy_score(y_test,y_pred2)*100,\n",
        "                                accuracy_score(y_test,y_pred3)*100,\n",
        "                                accuracy_score(y_test,y_pred4)*100,\n",
        "                                accuracy_score(y_test,y_pred5)*100,\n",
        "                                accuracy_score(y_test,y_pred6)*100]})"
      ],
      "metadata": {
        "execution": {
          "iopub.status.busy": "2024-11-07T05:52:48.891123Z",
          "iopub.execute_input": "2024-11-07T05:52:48.89204Z",
          "iopub.status.idle": "2024-11-07T05:52:48.904691Z",
          "shell.execute_reply.started": "2024-11-07T05:52:48.891991Z",
          "shell.execute_reply": "2024-11-07T05:52:48.903557Z"
        },
        "trusted": true,
        "id": "kCKdm-1sT08z"
      },
      "outputs": [],
      "execution_count": null
    },
    {
      "cell_type": "code",
      "source": [
        "final_data"
      ],
      "metadata": {
        "execution": {
          "iopub.status.busy": "2024-11-07T05:52:52.701451Z",
          "iopub.execute_input": "2024-11-07T05:52:52.702545Z",
          "iopub.status.idle": "2024-11-07T05:52:52.713026Z",
          "shell.execute_reply.started": "2024-11-07T05:52:52.702495Z",
          "shell.execute_reply": "2024-11-07T05:52:52.71189Z"
        },
        "trusted": true,
        "id": "NVL36jNfT08z"
      },
      "outputs": [],
      "execution_count": null
    },
    {
      "cell_type": "code",
      "source": [
        "import seaborn as sns"
      ],
      "metadata": {
        "execution": {
          "iopub.status.busy": "2024-11-07T05:53:04.610071Z",
          "iopub.execute_input": "2024-11-07T05:53:04.610502Z",
          "iopub.status.idle": "2024-11-07T05:53:04.615571Z",
          "shell.execute_reply.started": "2024-11-07T05:53:04.610444Z",
          "shell.execute_reply": "2024-11-07T05:53:04.614413Z"
        },
        "trusted": true,
        "id": "Qwo94ADbT080"
      },
      "outputs": [],
      "execution_count": null
    },
    {
      "cell_type": "code",
      "source": [
        "import seaborn as sns\n",
        "sns.barplot(x='Models', y='ACC', data=final_data)"
      ],
      "metadata": {
        "execution": {
          "iopub.status.busy": "2024-11-07T05:53:07.000341Z",
          "iopub.execute_input": "2024-11-07T05:53:07.000796Z",
          "iopub.status.idle": "2024-11-07T05:53:07.263621Z",
          "shell.execute_reply.started": "2024-11-07T05:53:07.000754Z",
          "shell.execute_reply": "2024-11-07T05:53:07.262542Z"
        },
        "trusted": true,
        "id": "X-mPj9O9T080"
      },
      "outputs": [],
      "execution_count": null
    },
    {
      "cell_type": "code",
      "source": [
        "X=data.drop('target',axis=1)\n",
        "y=data['target']"
      ],
      "metadata": {
        "execution": {
          "iopub.status.busy": "2024-11-07T05:53:16.671785Z",
          "iopub.execute_input": "2024-11-07T05:53:16.672241Z",
          "iopub.status.idle": "2024-11-07T05:53:16.678658Z",
          "shell.execute_reply.started": "2024-11-07T05:53:16.672197Z",
          "shell.execute_reply": "2024-11-07T05:53:16.677474Z"
        },
        "trusted": true,
        "id": "XcGsJBl9T080"
      },
      "outputs": [],
      "execution_count": null
    },
    {
      "cell_type": "code",
      "source": [
        "from sklearn.ensemble import RandomForestClassifier"
      ],
      "metadata": {
        "trusted": true,
        "execution": {
          "iopub.status.busy": "2024-11-07T05:53:19.548594Z",
          "iopub.execute_input": "2024-11-07T05:53:19.549076Z",
          "iopub.status.idle": "2024-11-07T05:53:19.554336Z",
          "shell.execute_reply.started": "2024-11-07T05:53:19.549037Z",
          "shell.execute_reply": "2024-11-07T05:53:19.552939Z"
        },
        "id": "ZTy444ZOT081"
      },
      "outputs": [],
      "execution_count": null
    },
    {
      "cell_type": "code",
      "source": [
        "rf = RandomForestClassifier()\n",
        "rf.fit(X,y)"
      ],
      "metadata": {
        "execution": {
          "iopub.status.busy": "2024-11-07T05:53:22.20942Z",
          "iopub.execute_input": "2024-11-07T05:53:22.210059Z",
          "iopub.status.idle": "2024-11-07T05:53:22.410068Z",
          "shell.execute_reply.started": "2024-11-07T05:53:22.21001Z",
          "shell.execute_reply": "2024-11-07T05:53:22.408916Z"
        },
        "trusted": true,
        "id": "nBT1a9SMT081"
      },
      "outputs": [],
      "execution_count": null
    },
    {
      "cell_type": "markdown",
      "source": [
        "### 15. Prediction on New Data"
      ],
      "metadata": {
        "id": "-RvohR_pT081"
      }
    },
    {
      "cell_type": "code",
      "source": [
        "import pandas as pd"
      ],
      "metadata": {
        "execution": {
          "iopub.status.busy": "2024-11-07T05:53:26.359505Z",
          "iopub.execute_input": "2024-11-07T05:53:26.35996Z",
          "iopub.status.idle": "2024-11-07T05:53:26.365925Z",
          "shell.execute_reply.started": "2024-11-07T05:53:26.359916Z",
          "shell.execute_reply": "2024-11-07T05:53:26.364733Z"
        },
        "trusted": true,
        "id": "DFaZ-GiIT081"
      },
      "outputs": [],
      "execution_count": null
    },
    {
      "cell_type": "code",
      "source": [
        "new_data = pd.DataFrame({\n",
        "    'age':52,\n",
        "    'sex':1,\n",
        "    'cp':0,\n",
        "    'trestbps':125,\n",
        "    'chol':212,\n",
        "    'fbs':0,\n",
        "    'restecg':1,\n",
        "    'thalach':168,\n",
        "    'exang':0,\n",
        "    'oldpeak':1.0,\n",
        "     'slope':2,\n",
        "    'ca':2,\n",
        "    'thal':3,\n",
        "},index=[0])"
      ],
      "metadata": {
        "execution": {
          "iopub.status.busy": "2024-11-07T05:53:29.564546Z",
          "iopub.execute_input": "2024-11-07T05:53:29.565546Z",
          "iopub.status.idle": "2024-11-07T05:53:29.572659Z",
          "shell.execute_reply.started": "2024-11-07T05:53:29.565497Z",
          "shell.execute_reply": "2024-11-07T05:53:29.571447Z"
        },
        "trusted": true,
        "id": "487FI6dNT082"
      },
      "outputs": [],
      "execution_count": null
    },
    {
      "cell_type": "code",
      "source": [
        "new_data"
      ],
      "metadata": {
        "execution": {
          "iopub.status.busy": "2024-11-07T05:53:33.826474Z",
          "iopub.execute_input": "2024-11-07T05:53:33.826931Z",
          "iopub.status.idle": "2024-11-07T05:53:33.84117Z",
          "shell.execute_reply.started": "2024-11-07T05:53:33.82688Z",
          "shell.execute_reply": "2024-11-07T05:53:33.839939Z"
        },
        "trusted": true,
        "id": "xuICZ6b1T087"
      },
      "outputs": [],
      "execution_count": null
    },
    {
      "cell_type": "code",
      "source": [
        "p = rf.predict(new_data)\n",
        "if p[0]==0:\n",
        "    print(\"No Disease\")\n",
        "else:\n",
        "    print(\"Disease\")"
      ],
      "metadata": {
        "execution": {
          "iopub.status.busy": "2024-11-07T05:53:37.074445Z",
          "iopub.execute_input": "2024-11-07T05:53:37.074905Z",
          "iopub.status.idle": "2024-11-07T05:53:37.095932Z",
          "shell.execute_reply.started": "2024-11-07T05:53:37.07486Z",
          "shell.execute_reply": "2024-11-07T05:53:37.094623Z"
        },
        "trusted": true,
        "id": "1dDaSfkAT088"
      },
      "outputs": [],
      "execution_count": null
    },
    {
      "cell_type": "markdown",
      "source": [
        "### 16. Save Model Using Joblib"
      ],
      "metadata": {
        "id": "MEOtVUAbT088"
      }
    },
    {
      "cell_type": "code",
      "source": [
        "import joblib"
      ],
      "metadata": {
        "execution": {
          "iopub.status.busy": "2024-11-07T05:53:50.859615Z",
          "iopub.execute_input": "2024-11-07T05:53:50.860054Z",
          "iopub.status.idle": "2024-11-07T05:53:50.865438Z",
          "shell.execute_reply.started": "2024-11-07T05:53:50.860013Z",
          "shell.execute_reply": "2024-11-07T05:53:50.864075Z"
        },
        "trusted": true,
        "id": "q3QQtYslT089"
      },
      "outputs": [],
      "execution_count": null
    },
    {
      "cell_type": "code",
      "source": [
        "joblib.dump(rf,'model_joblib_heart')"
      ],
      "metadata": {
        "execution": {
          "iopub.status.busy": "2024-11-07T05:53:59.271936Z",
          "iopub.execute_input": "2024-11-07T05:53:59.272369Z",
          "iopub.status.idle": "2024-11-07T05:53:59.339818Z",
          "shell.execute_reply.started": "2024-11-07T05:53:59.27233Z",
          "shell.execute_reply": "2024-11-07T05:53:59.338675Z"
        },
        "trusted": true,
        "id": "BX-r36ZzT089"
      },
      "outputs": [],
      "execution_count": null
    },
    {
      "cell_type": "code",
      "source": [
        "model = joblib.load('model_joblib_heart')"
      ],
      "metadata": {
        "execution": {
          "iopub.status.busy": "2024-11-07T05:54:01.540565Z",
          "iopub.execute_input": "2024-11-07T05:54:01.541618Z",
          "iopub.status.idle": "2024-11-07T05:54:01.589138Z",
          "shell.execute_reply.started": "2024-11-07T05:54:01.541573Z",
          "shell.execute_reply": "2024-11-07T05:54:01.588033Z"
        },
        "trusted": true,
        "id": "Mg5mB4q0T089"
      },
      "outputs": [],
      "execution_count": null
    },
    {
      "cell_type": "code",
      "source": [
        "model.predict(new_data)"
      ],
      "metadata": {
        "execution": {
          "iopub.status.busy": "2024-11-07T05:54:05.572775Z",
          "iopub.execute_input": "2024-11-07T05:54:05.574034Z",
          "iopub.status.idle": "2024-11-07T05:54:05.592455Z",
          "shell.execute_reply.started": "2024-11-07T05:54:05.57398Z",
          "shell.execute_reply": "2024-11-07T05:54:05.591287Z"
        },
        "trusted": true,
        "id": "8hEtcExmT089"
      },
      "outputs": [],
      "execution_count": null
    },
    {
      "cell_type": "code",
      "source": [
        "data.tail()"
      ],
      "metadata": {
        "execution": {
          "iopub.status.busy": "2024-11-07T05:54:08.659299Z",
          "iopub.execute_input": "2024-11-07T05:54:08.659733Z",
          "iopub.status.idle": "2024-11-07T05:54:08.674807Z",
          "shell.execute_reply.started": "2024-11-07T05:54:08.659692Z",
          "shell.execute_reply": "2024-11-07T05:54:08.673566Z"
        },
        "trusted": true,
        "id": "N1LwLOAoT08-"
      },
      "outputs": [],
      "execution_count": null
    },
    {
      "cell_type": "markdown",
      "source": [
        "### GUI"
      ],
      "metadata": {
        "id": "qav4p2vfT08-"
      }
    },
    {
      "cell_type": "code",
      "source": [
        "from tkinter import *\n",
        "import joblib"
      ],
      "metadata": {
        "execution": {
          "iopub.status.busy": "2024-11-07T05:54:13.172519Z",
          "iopub.execute_input": "2024-11-07T05:54:13.172945Z",
          "iopub.status.idle": "2024-11-07T05:54:13.227422Z",
          "shell.execute_reply.started": "2024-11-07T05:54:13.172909Z",
          "shell.execute_reply": "2024-11-07T05:54:13.226442Z"
        },
        "trusted": true,
        "id": "dosOKKDzT08-"
      },
      "outputs": [],
      "execution_count": null
    },
    {
      "cell_type": "code",
      "source": [
        "import joblib\n",
        "\n",
        "# Console-based input for testing instead of GUI\n",
        "def predict_heart_disease():\n",
        "    p1 = int(input(\"Enter Your Age: \"))\n",
        "    p2 = int(input(\"Male Or Female [1/0]: \"))\n",
        "    p3 = int(input(\"Enter Value of CP: \"))\n",
        "    p4 = int(input(\"Enter Value of trestbps: \"))\n",
        "    p5 = int(input(\"Enter Value of chol: \"))\n",
        "    p6 = int(input(\"Enter Value of fbs: \"))\n",
        "    p7 = int(input(\"Enter Value of restecg: \"))\n",
        "    p8 = int(input(\"Enter Value of thalach: \"))\n",
        "    p9 = int(input(\"Enter Value of exang: \"))\n",
        "    p10 = float(input(\"Enter Value of oldpeak: \"))\n",
        "    p11 = int(input(\"Enter Value of slope: \"))\n",
        "    p12 = int(input(\"Enter Value of ca: \"))\n",
        "    p13 = int(input(\"Enter Value of thal: \"))\n",
        "\n",
        "    # Load your model\n",
        "    model = joblib.load('model_joblib_heart')\n",
        "\n",
        "    # Predict the result\n",
        "    result = model.predict([[p1, p2, p3, p4, p5, p6, p7, p8, p9, p10, p11, p12, p13]])\n",
        "\n",
        "    # Display the result\n",
        "    if result == 0:\n",
        "        print(\"No Heart Disease\")\n",
        "    else:\n",
        "        print(\"You have Heart Disease\")\n",
        "\n",
        "# Call the function\n",
        "predict_heart_disease()\n"
      ],
      "metadata": {
        "execution": {
          "iopub.status.busy": "2024-11-07T05:54:17.496766Z",
          "iopub.execute_input": "2024-11-07T05:54:17.497214Z",
          "iopub.status.idle": "2024-11-07T05:55:20.543683Z",
          "shell.execute_reply.started": "2024-11-07T05:54:17.497174Z",
          "shell.execute_reply": "2024-11-07T05:55:20.542537Z"
        },
        "trusted": true,
        "id": "ZQupfa26T08-"
      },
      "outputs": [],
      "execution_count": null
    }
  ]
}